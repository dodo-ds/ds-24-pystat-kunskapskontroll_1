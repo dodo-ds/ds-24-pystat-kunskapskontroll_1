{
 "cells": [
  {
   "cell_type": "markdown",
   "id": "dacf74e6",
   "metadata": {},
   "source": [
    "# NumPy"
   ]
  },
  {
   "cell_type": "markdown",
   "id": "01b2bf34",
   "metadata": {},
   "source": [
    "Read the links: https://numpy.org/doc/stable/user/quickstart.html  and https://numpy.org/doc/stable/user/basics.broadcasting.html  before solving the exercises. "
   ]
  },
  {
   "cell_type": "code",
   "execution_count": 1,
   "id": "1f79e4a6",
   "metadata": {},
   "outputs": [],
   "source": [
    "import numpy as np"
   ]
  },
  {
   "cell_type": "markdown",
   "id": "7dae6889",
   "metadata": {},
   "source": [
    "### Print out the dimension (number of axes), shape, size and the datatype of the matrix A."
   ]
  },
  {
   "cell_type": "code",
   "execution_count": 2,
   "id": "7b3678cd",
   "metadata": {},
   "outputs": [
    {
     "name": "stdout",
     "output_type": "stream",
     "text": [
      "[[ 1  2  3  4  5]\n",
      " [ 6  7  8  9 10]\n",
      " [11 12 13 14 15]]\n",
      "\n",
      "2\n",
      "(3, 5)\n",
      "15\n",
      "int64\n"
     ]
    }
   ],
   "source": [
    "A = np.arange(1, 16).reshape(3, 5)\n",
    "print(A)\n",
    "print()\n",
    "print(A.ndim)\n",
    "print(A.shape)\n",
    "print(A.size)\n",
    "print(A.dtype)"
   ]
  },
  {
   "cell_type": "code",
   "execution_count": null,
   "id": "31d39235",
   "metadata": {},
   "outputs": [],
   "source": []
  },
  {
   "cell_type": "markdown",
   "id": "e56d2a96",
   "metadata": {},
   "source": [
    "### Do the following computations on the matrices B and C: \n",
    "* Elementwise subtraction. \n",
    "* Elementwise multiplication. \n",
    "* Matrix multiplication (by default you should use the @ operator)."
   ]
  },
  {
   "cell_type": "code",
   "execution_count": 3,
   "id": "a7053fbb",
   "metadata": {},
   "outputs": [
    {
     "name": "stdout",
     "output_type": "stream",
     "text": [
      "[[1 2 3]\n",
      " [4 5 6]\n",
      " [7 8 9]]\n",
      "\n",
      "[[2. 2. 2.]\n",
      " [2. 2. 2.]\n",
      " [2. 2. 2.]]\n",
      "\n",
      "Elementwise Subtraction\n",
      "[[-1.  0.  1.]\n",
      " [ 2.  3.  4.]\n",
      " [ 5.  6.  7.]]\n",
      "\n",
      "Elementwise Multiplication\n",
      "[[ 2.  4.  6.]\n",
      " [ 8. 10. 12.]\n",
      " [14. 16. 18.]]\n",
      "\n",
      "Matrix Multiplication\n",
      "[[12. 12. 12.]\n",
      " [30. 30. 30.]\n",
      " [48. 48. 48.]]\n"
     ]
    }
   ],
   "source": [
    "B = np.arange(1, 10).reshape(3, 3)\n",
    "C = np.ones((3, 3)) * 2\n",
    "\n",
    "print(B)\n",
    "print()\n",
    "print(C)\n",
    "print()\n",
    "print(\"Elementwise Subtraction\")\n",
    "print(B - C)\n",
    "print()\n",
    "print(\"Elementwise Multiplication\")\n",
    "print(B * C)\n",
    "print()\n",
    "print(\"Matrix Multiplication\")\n",
    "print(B @ C)"
   ]
  },
  {
   "cell_type": "code",
   "execution_count": null,
   "id": "3cd794ae",
   "metadata": {},
   "outputs": [],
   "source": []
  },
  {
   "cell_type": "markdown",
   "id": "96030d53",
   "metadata": {},
   "source": [
    "### Do the following calculations on the matrix:\n",
    "* Exponentiate each number elementwise (use the np.exp function).\n",
    "\n",
    "* Calculate the minimum value in the whole matrix. \n",
    "* Calculcate the minimum value in each row. \n",
    "* Calculcate the minimum value in each column. \n",
    "\n",
    "\n",
    "* Find the index value for the minimum value in the whole matrix (hint: use np.argmin).\n",
    "* Find the index value for the minimum value in each row (hint: use np.argmin).\n",
    "\n",
    "\n",
    "* Calculate the sum for all elements.\n",
    "* Calculate the mean for each column. \n",
    "* Calculate the median for each column. "
   ]
  },
  {
   "cell_type": "code",
   "execution_count": 4,
   "id": "f8a9166b",
   "metadata": {},
   "outputs": [
    {
     "name": "stdout",
     "output_type": "stream",
     "text": [
      "[[1 2 3]\n",
      " [4 5 6]\n",
      " [7 8 9]]\n",
      "\n",
      "Exponentiate each number elementwise\n",
      "[[2.71828183e+00 7.38905610e+00 2.00855369e+01]\n",
      " [5.45981500e+01 1.48413159e+02 4.03428793e+02]\n",
      " [1.09663316e+03 2.98095799e+03 8.10308393e+03]]\n",
      "\n",
      "Calculate the minimum value in the whole matrix\n",
      "1\n",
      "\n",
      "Calculate the minimum value in each row\n",
      "[1 4 7]\n",
      "\n",
      "Calculate the minimum value in each column\n",
      "[1 2 3]\n",
      "\n",
      "Find the index value for the minimum value in the whole matrix\n",
      "0\n",
      "\n",
      "Find the index value for the minimum value in each row\n",
      "[0 0 0]\n",
      "\n",
      "Calculate the sum for all elements\n",
      "45\n",
      "\n",
      "Calculate the mean for each column\n",
      "[4. 5. 6.]\n",
      "\n",
      "Calculate the median for each column\n",
      "[4. 5. 6.]\n"
     ]
    }
   ],
   "source": [
    "B = np.arange(1, 10).reshape(3, 3)\n",
    "print(B)\n",
    "print()\n",
    "print(\"Exponentiate each number elementwise\")\n",
    "print(np.exp(B))\n",
    "print()\n",
    "print(\"Calculate the minimum value in the whole matrix\")\n",
    "print(np.min(B))\n",
    "print()\n",
    "print(\"Calculate the minimum value in each row\")\n",
    "print(np.min(B, axis=1))\n",
    "print()\n",
    "print(\"Calculate the minimum value in each column\")\n",
    "print(np.min(B, axis=0))\n",
    "print()\n",
    "print(\"Find the index value for the minimum value in the whole matrix\")\n",
    "print(np.argmin(B))\n",
    "print()\n",
    "print(\"Find the index value for the minimum value in each row\")\n",
    "print(np.argmin(B, axis=1))\n",
    "print()\n",
    "print(\"Calculate the sum for all elements\")\n",
    "print(np.sum(B))\n",
    "print()\n",
    "print(\"Calculate the mean for each column\")\n",
    "print(np.mean(B, axis=0))\n",
    "print()\n",
    "print(\"Calculate the median for each column\")\n",
    "print(np.median(B, axis=0))"
   ]
  },
  {
   "cell_type": "code",
   "execution_count": null,
   "id": "f03f24f7",
   "metadata": {},
   "outputs": [],
   "source": []
  },
  {
   "cell_type": "markdown",
   "id": "541eb7ba",
   "metadata": {},
   "source": [
    "### What does it mean when you provide fewer indices than axes when slicing? See example below."
   ]
  },
  {
   "cell_type": "code",
   "execution_count": 5,
   "id": "9c8abf56",
   "metadata": {},
   "outputs": [
    {
     "name": "stdout",
     "output_type": "stream",
     "text": [
      "[[ 1  2  3  4  5]\n",
      " [ 6  7  8  9 10]\n",
      " [11 12 13 14 15]]\n"
     ]
    }
   ],
   "source": [
    "print(A)"
   ]
  },
  {
   "cell_type": "code",
   "execution_count": 6,
   "id": "69415f7b",
   "metadata": {},
   "outputs": [
    {
     "data": {
      "text/plain": [
       "array([ 6,  7,  8,  9, 10])"
      ]
     },
     "execution_count": 6,
     "metadata": {},
     "output_type": "execute_result"
    }
   ],
   "source": [
    "A[1]"
   ]
  },
  {
   "cell_type": "markdown",
   "id": "6c53541b",
   "metadata": {},
   "source": [
    "**Answer:**"
   ]
  },
  {
   "cell_type": "code",
   "execution_count": 7,
   "id": "de01e120",
   "metadata": {},
   "outputs": [],
   "source": [
    "# In the example above, A[1] returns the second row of the array A,\n",
    "# So when you provide fewer indices than axes\n",
    "# the code assume that you want to full slice of the remaining axes. Meaning the whole row."
   ]
  },
  {
   "cell_type": "markdown",
   "id": "6652d0c9",
   "metadata": {},
   "source": [
    "### Iterating over multidimensional arrays is done with respect to the first axis, so in the example below we iterate trough the rows. If you would like to iterate through the array *elementwise*, how would you do that?"
   ]
  },
  {
   "cell_type": "code",
   "execution_count": 8,
   "id": "9459864f",
   "metadata": {},
   "outputs": [
    {
     "data": {
      "text/plain": [
       "array([[ 1,  2,  3,  4,  5],\n",
       "       [ 6,  7,  8,  9, 10],\n",
       "       [11, 12, 13, 14, 15]])"
      ]
     },
     "execution_count": 8,
     "metadata": {},
     "output_type": "execute_result"
    }
   ],
   "source": [
    "A"
   ]
  },
  {
   "cell_type": "code",
   "execution_count": 9,
   "id": "a671bb5a",
   "metadata": {},
   "outputs": [
    {
     "name": "stdout",
     "output_type": "stream",
     "text": [
      "Row: [1 2 3 4 5]\n",
      "Elements: 1, 2, 3, 4, 5, \n",
      "Row: [ 6  7  8  9 10]\n",
      "Elements: 6, 7, 8, 9, 10, \n",
      "Row: [11 12 13 14 15]\n",
      "Elements: 11, 12, 13, 14, 15, \n"
     ]
    }
   ],
   "source": [
    "for i in A:\n",
    "    print(\"Row:\", i)\n",
    "    print(\"Elements\", end=\": \")\n",
    "    for j in i:\n",
    "        print(j, end=\", \")\n",
    "    print()"
   ]
  },
  {
   "cell_type": "code",
   "execution_count": null,
   "id": "f4e443a0",
   "metadata": {},
   "outputs": [],
   "source": []
  },
  {
   "cell_type": "markdown",
   "id": "608a2583",
   "metadata": {},
   "source": [
    "### Explain what the code below does. More specifically, b has three axes - what does this mean? "
   ]
  },
  {
   "cell_type": "code",
   "execution_count": 10,
   "id": "f8f9b26f",
   "metadata": {},
   "outputs": [
    {
     "name": "stdout",
     "output_type": "stream",
     "text": [
      "[ 0  1  2  3  4  5  6  7  8  9 10 11 12 13 14 15 16 17 18 19 20 21 22 23\n",
      " 24 25 26 27 28 29]\n",
      "\n",
      "[[[ 0  1  2  3  4]\n",
      "  [ 5  6  7  8  9]\n",
      "  [10 11 12 13 14]]\n",
      "\n",
      " [[15 16 17 18 19]\n",
      "  [20 21 22 23 24]\n",
      "  [25 26 27 28 29]]]\n"
     ]
    }
   ],
   "source": [
    "a = np.arange(30)\n",
    "b = a.reshape((2, 3, -1))\n",
    "print(a)\n",
    "print()\n",
    "\n",
    "print(b)"
   ]
  },
  {
   "cell_type": "code",
   "execution_count": 11,
   "id": "863a45df",
   "metadata": {},
   "outputs": [
    {
     "name": "stdout",
     "output_type": "stream",
     "text": [
      "13\n"
     ]
    }
   ],
   "source": [
    "# First line:\n",
    "#   Create range() like object from 0 to 29\n",
    "\n",
    "# Second line:\n",
    "#   Using the elements, reshape the 30 elements into 2 matrices, with each matrix having 3 rows.\n",
    "#   Then calculate (-1) programmatically how many elements each row will have (5 in this case).\n",
    "\n",
    "# b is now a 3D array. To access a specific element, you would have to specify 3 indices.\n",
    "print(b[0, 2, 3])"
   ]
  },
  {
   "cell_type": "markdown",
   "id": "ab5933d5",
   "metadata": {},
   "source": [
    "### Broadcasting\n",
    "**Read the following link about broadcasting: https://numpy.org/doc/stable/user/basics.broadcasting.html#basics-broadcasting**"
   ]
  },
  {
   "cell_type": "markdown",
   "id": "039805ba",
   "metadata": {},
   "source": [
    "# Remark on Broadcasting when doing Linear Algebra calculations in Python. "
   ]
  },
  {
   "cell_type": "markdown",
   "id": "c4bcc147",
   "metadata": {},
   "source": [
    "### From the mathematical rules of matrix addition, the operation below (m1 + m2) does not make sense. The reason is that matrix addition requires two matrices of the same size. In Python however, it works due to broadcasting rules in NumPy. So you must be careful when doing Linear Algebra calculations in Python since they do not follow the \"mathematical rules\". This can however easily be handled by doing some simple programming, for example validating that two matrices have the same shape is easy if you for instance want to add two matrices. "
   ]
  },
  {
   "cell_type": "code",
   "execution_count": 12,
   "id": "1fd46778",
   "metadata": {},
   "outputs": [
    {
     "name": "stdout",
     "output_type": "stream",
     "text": [
      "[[2 3]\n",
      " [4 5]]\n"
     ]
    }
   ],
   "source": [
    "m1 = np.array([[1, 2], [3, 4]])\n",
    "m2 = np.array([1, 1])\n",
    "print(m1 + m2)"
   ]
  },
  {
   "cell_type": "markdown",
   "id": "047d6576",
   "metadata": {},
   "source": [
    "### The example below would also not be allowed if following the \"mathematical rules\" in Linear Algebra. But it works due to broadcasting in NumPy. "
   ]
  },
  {
   "cell_type": "code",
   "execution_count": 13,
   "id": "5e6ef2e4",
   "metadata": {},
   "outputs": [
    {
     "name": "stdout",
     "output_type": "stream",
     "text": [
      "[2 3 4]\n"
     ]
    }
   ],
   "source": [
    "v1 = np.array([1, 2, 3])\n",
    "print(v1 + 1)"
   ]
  },
  {
   "cell_type": "code",
   "execution_count": 14,
   "id": "e2cbae26",
   "metadata": {},
   "outputs": [
    {
     "name": "stdout",
     "output_type": "stream",
     "text": [
      "[[1 2]\n",
      " [3 4]]\n",
      "[2 2]\n"
     ]
    }
   ],
   "source": [
    "A = np.arange(1, 5).reshape(2, 2)\n",
    "print(A)\n",
    "\n",
    "b = np.array([2, 2])\n",
    "print(b)"
   ]
  },
  {
   "cell_type": "markdown",
   "id": "722fd5cd",
   "metadata": {},
   "source": [
    "# Vector- and matrix algebra Exercises"
   ]
  },
  {
   "cell_type": "markdown",
   "id": "b63a3081-d976-4d9f-bfd0-a63917e79f7d",
   "metadata": {},
   "source": [
    "**Now you are going to create a function that can be reused every time you add or multiply matrices. The function is created so that we do the addition and multiplication according to the rules of vector- and matrix algebra.**\n",
    "\n",
    "**Create a function \"add_mult_matrices\" that takes two matrices as input arguments (validate that the input are of the type numpy.ndarray by using the isinstance function), a third argument that is either 'add' or 'multiply' that specifies if you want to add or multiply the matrices (validate that the third argument is either 'add' or 'multiply'). When doing matrix addition, validate that the matrices have the same size. When doing matrix multiplication, validate that the sizes conform (i.e. number of columns in the first matrix is equal to the number of rows in the second matrix).**"
   ]
  },
  {
   "cell_type": "code",
   "execution_count": 15,
   "id": "3506f977-ac0a-473f-85bc-eec9f35dc498",
   "metadata": {},
   "outputs": [],
   "source": [
    "def add_mul_matrices(m1, m2, operation):\n",
    "    if not isinstance(m1, np.ndarray) or not isinstance(m2, np.ndarray):\n",
    "        raise ValueError(\"m1 or m2 are not the type of instance 'np.ndarray'\")\n",
    "\n",
    "    if operation == \"add\":\n",
    "        if m1.shape != m2.shape:\n",
    "            raise ValueError(\"Matrices have different sizes\")\n",
    "        return m1 + m2\n",
    "\n",
    "    elif operation == \"multiply\":\n",
    "        if m1.shape[1] != m2.shape[0]:\n",
    "            raise ValueError(\"Matrices have incompatible shapes\")\n",
    "        return m1 @ m2\n",
    "\n",
    "    raise ValueError(\"Invalid operation\")"
   ]
  },
  {
   "cell_type": "markdown",
   "id": "8dad82d0-2359-4dff-8f5b-a57d3e34103c",
   "metadata": {},
   "source": [
    "### Solve all the exercises in chapter 10.1 in the book \"Matematik för yrkeshögskolan\". "
   ]
  },
  {
   "cell_type": "code",
   "execution_count": 16,
   "id": "bf8aa659",
   "metadata": {},
   "outputs": [
    {
     "name": "stdout",
     "output_type": "stream",
     "text": [
      "[[4 3]]\n",
      "(1, 2)\n",
      "Beräkna 5x\n",
      "[[20 15]]\n",
      "Beräkna 3x\n",
      "[[12  9]]\n",
      "Beräkna 5x + 3x\n",
      "[[32 24]]\n",
      "Beräkna 8x\n",
      "[[32 24]]\n",
      "Beräkna 4x - x\n",
      "[[12  9]]\n",
      "Transponerad x:\n",
      "[[4]\n",
      " [3]]\n",
      "Nya dimensionen är 2x1\n",
      "(2, 1)\n",
      "Ej definierat\n",
      "Beräkna ||x||\n",
      "5.0\n"
     ]
    }
   ],
   "source": [
    "x = np.array([[4, 3]])\n",
    "print(x)\n",
    "# a) 1x2\n",
    "print(x.shape)\n",
    "# b)\n",
    "print(\"Beräkna 5x\")\n",
    "print(x * 5)\n",
    "# c)\n",
    "print(\"Beräkna 3x\")\n",
    "print(x * 3)\n",
    "# d)\n",
    "print(\"Beräkna 5x + 3x\")\n",
    "print(x * 5 + x * 3)\n",
    "# e)\n",
    "print(\"Beräkna 8x\")\n",
    "print(x * 8)\n",
    "# f)\n",
    "print(\"Beräkna 4x - x\")\n",
    "print(x * 4 - x)\n",
    "# g)\n",
    "x_t = x.transpose()\n",
    "print(\"Transponerad x:\")\n",
    "print(x_t)\n",
    "print(\"Nya dimensionen är 2x1\")\n",
    "print(x_t.shape)\n",
    "# h)\n",
    "print(\"Definierat\") if x.shape == x_t.shape else print(\"Ej definierat\")\n",
    "# i)\n",
    "print(\"Beräkna ||x||\")\n",
    "print(np.linalg.norm(x))"
   ]
  },
  {
   "cell_type": "code",
   "execution_count": 17,
   "id": "e3ac649f",
   "metadata": {},
   "outputs": [
    {
     "name": "stdout",
     "output_type": "stream",
     "text": [
      "UPPGIFT 10.1.2\n",
      "[[ 3]\n",
      " [ 7]\n",
      " [ 0]\n",
      " [11]]\n",
      "Vektorn har dimensionen (4x1)\n",
      "Beräkna 2v\n",
      "[[ 6]\n",
      " [14]\n",
      " [ 0]\n",
      " [22]]\n",
      "Beräkna 5v + 2v\n",
      "[[21]\n",
      " [49]\n",
      " [ 0]\n",
      " [77]]\n",
      "Beräkna 4v - 2v\n",
      "[[ 6]\n",
      " [14]\n",
      " [ 0]\n",
      " [22]]\n",
      "Efter transponeringen är dimensionen nu 1x4 [[ 3  7  0 11]]\n",
      "(1, 4)\n",
      "Beräkna ||v||\n",
      "13.379088160259652\n"
     ]
    }
   ],
   "source": [
    "print(\"UPPGIFT 10.1.2\")\n",
    "v = np.array([[3], [7], [0], [11]])\n",
    "print(v)\n",
    "# a)\n",
    "print(\n",
    "    f\"Vektorn har dimensionen {str(v.shape).replace(\",\",\"x\").replace(\" \", \"\")}\"\n",
    ")\n",
    "# b)\n",
    "print(\"Beräkna 2v\")\n",
    "print(v * 2)\n",
    "# c)\n",
    "print(\"Beräkna 5v + 2v\")\n",
    "print(v * 5 + v * 2)\n",
    "# d\n",
    "print(\"Beräkna 4v - 2v\")\n",
    "print(v * 4 - v * 2)\n",
    "# e\n",
    "v_t = v.transpose()\n",
    "print(\"Efter transponeringen är dimensionen nu 1x4\", v_t)\n",
    "print(v_t.shape)\n",
    "# f\n",
    "print(\"Beräkna ||v||\")\n",
    "print(np.linalg.norm(v))"
   ]
  },
  {
   "cell_type": "code",
   "execution_count": 18,
   "id": "0146322a",
   "metadata": {},
   "outputs": [
    {
     "name": "stdout",
     "output_type": "stream",
     "text": [
      "Uppgift 10.1.3\n",
      "a) Beräkna ||v_1||\n",
      "7.14142842854285\n",
      "b) Beräkna  ||v1 - v2||\n",
      "4.47213595499958\n"
     ]
    }
   ],
   "source": [
    "print(\"Uppgift 10.1.3\")\n",
    "v_1 = np.array([[4, 3, 1, 5]])\n",
    "v_2 = np.array([[2, 3, 1, 1]])\n",
    "\n",
    "print(\"a) Beräkna ||v_1||\")\n",
    "print(np.linalg.norm(v_1))\n",
    "print(\"b) Beräkna  ||v1 - v2||\")\n",
    "print(np.linalg.norm(v_1 - v_2))"
   ]
  },
  {
   "cell_type": "markdown",
   "id": "75c98984-1f88-4df1-b850-d2466de444a5",
   "metadata": {},
   "source": [
    "### Solve all the exercises, except 10.2.4, in chapter 10.2 in the book \"Matematik för yrkeshögskolan\". "
   ]
  },
  {
   "cell_type": "code",
   "execution_count": 19,
   "id": "65371610-16e1-48b2-b7fb-65e49002608a",
   "metadata": {},
   "outputs": [
    {
     "name": "stdout",
     "output_type": "stream",
     "text": [
      "Uppgift 10.2.1\n",
      "A\n",
      "[[ 2  1 -1]\n",
      " [ 1 -1  1]]\n",
      "B\n",
      "[[ 4 -2  1]\n",
      " [ 2 -4 -2]]\n",
      "C\n",
      "[[1 2]\n",
      " [2 1]]\n",
      "D\n",
      "[[3 4]\n",
      " [4 3]]\n",
      "E\n",
      "[[1]\n",
      " [2]]\n",
      "I\n",
      "[[1 0]\n",
      " [0 1]]\n"
     ]
    }
   ],
   "source": [
    "print(\"Uppgift 10.2.1\")\n",
    "A = np.array([(2, 1, -1), (1, -1, 1)])\n",
    "B = np.array([(4, -2, 1), (2, -4, -2)])\n",
    "C = np.array([(1, 2), (2, 1)])\n",
    "D = np.array([(3, 4), (4, 3)])\n",
    "E = np.array([[1], [2]])\n",
    "I = np.array([(1, 0), (0, 1)])\n",
    "print(\"A\")\n",
    "print(A)\n",
    "print(\"B\")\n",
    "print(B)\n",
    "print(\"C\")\n",
    "print(C)\n",
    "print(\"D\")\n",
    "print(D)\n",
    "print(\"E\")\n",
    "print(E)\n",
    "print(\"I\")\n",
    "print(I)"
   ]
  },
  {
   "cell_type": "code",
   "execution_count": 20,
   "id": "690a6405",
   "metadata": {},
   "outputs": [
    {
     "name": "stdout",
     "output_type": "stream",
     "text": [
      "a) 2A\n",
      "[[ 4  2 -2]\n",
      " [ 2 -2  2]]\n",
      "b) B - 2A\n",
      "[[ 0 -4  3]\n",
      " [ 0 -2 -4]]\n",
      "c) 3C - 2E\n",
      "Undefined\n",
      "d) 2D - 3C\n",
      "[[3 2]\n",
      " [2 3]]\n",
      "e) D_T + 2D\n",
      "[[ 9 12]\n",
      " [12  9]]\n",
      "f) 2C_T - 2D_T\n",
      "[[-4 -4]\n",
      " [-4 -4]]\n",
      "g) A_T - B\n",
      "Undefined\n",
      "h) A @ C\n",
      "Undefined\n",
      "i) C @ D\n",
      "[[11 10]\n",
      " [10 11]]\n",
      "j) C @ B\n",
      "[[  8 -10  -3]\n",
      " [ 10  -8   0]]\n",
      "k) C @ I\n",
      "[[1 2]\n",
      " [2 1]]\n",
      "l) A @ B_T\n",
      "[[5 2]\n",
      " [7 4]]\n"
     ]
    }
   ],
   "source": [
    "print(\"a) 2A\")\n",
    "print(A * 2)\n",
    "print(\"b) B - 2A\")\n",
    "print(B - A * 2 if B.shape == A.shape else \"Undefined\")\n",
    "print(\"c) 3C - 2E\")\n",
    "print(C * 3 if C.shape == E.shape else \"Undefined\")\n",
    "print(\"d) 2D - 3C\")\n",
    "print(D * 2 - 3 * C if  D.shape == C.shape else \"Undefined\")\n",
    "print(\"e) D_T + 2D\")\n",
    "print(D.transpose() + D * 2 if (D.transpose().shape == D.shape and D.transpose().shape == D.shape) else \"Undefined\")\n",
    "print(\"f) 2C_T - 2D_T\")\n",
    "print(C.transpose() * 2 - D.transpose() * 2 if C.transpose().shape == D.transpose().shape else \"Undefined\")\n",
    "print(\"g) A_T - B\")\n",
    "print(A.transpose() - B if A.transpose().shape == B.shape else \"Undefined\")\n",
    "print(\"h) A @ C\")\n",
    "print(A @ C if A.shape[1] == C.shape[0] else \"Undefined\")\n",
    "print(\"i) C @ D\")\n",
    "print(C @ D if C.shape[1] == D.shape[0] else \"Undefined\")\n",
    "print(\"j) C @ B\")\n",
    "print(C @ B if C.shape[1] == B.shape[0] else \"Undefined\")\n",
    "print(\"k) C @ I\")\n",
    "print(C @ I if C.shape[1] == I.shape[0] else \"Undefined\")\n",
    "print(\"l) A @ B_T\")\n",
    "print(A @ B.transpose() if A.shape[1] == B.transpose().shape[0] else \"Undefined\")"
   ]
  },
  {
   "cell_type": "code",
   "execution_count": 21,
   "id": "5163a1b8",
   "metadata": {},
   "outputs": [
    {
     "name": "stdout",
     "output_type": "stream",
     "text": [
      "Uppgift 10.2.2\n",
      "[[2 3 4]\n",
      " [5 4 1]]\n",
      "A @ A_T\n",
      "[[29 26]\n",
      " [26 42]]\n"
     ]
    }
   ],
   "source": [
    "print(\"Uppgift 10.2.2\")\n",
    "A = np.array([[2, 3, 4], [5, 4, 1]])\n",
    "print(A)\n",
    "print(\"A @ A_T\")\n",
    "print(\n",
    "    A @ A.transpose() if A.shape[1] == A.transpose().shape[0] else \"Undefined\"\n",
    ")"
   ]
  },
  {
   "cell_type": "code",
   "execution_count": 22,
   "id": "a615741b",
   "metadata": {},
   "outputs": [
    {
     "name": "stdout",
     "output_type": "stream",
     "text": [
      "Uppgift 10.2.3\n",
      "[[ 4  7]\n",
      " [ 8 14]]\n",
      "[[ 4  7]\n",
      " [ 8 14]]\n",
      "[[ True  True]\n",
      " [ True  True]]\n",
      "[[False False]\n",
      " [False False]]\n"
     ]
    }
   ],
   "source": [
    "print(\"Uppgift 10.2.3\")\n",
    "A = np.array([[1, 2], [2, 4]])\n",
    "B = np.array([[2, 1], [1, 3]])\n",
    "C = np.array([[4, 3], [0, 2]])\n",
    "AB = A @ B\n",
    "AC = A @ C\n",
    "print(AB)\n",
    "print(AC)\n",
    "print(AB == AC)\n",
    "print(B == C)"
   ]
  },
  {
   "cell_type": "markdown",
   "id": "6a4a524f",
   "metadata": {},
   "source": [
    "### Copies and Views\n",
    "Read the following link: https://numpy.org/doc/stable/user/basics.copies.html"
   ]
  },
  {
   "cell_type": "markdown",
   "id": "6cbbeaf7",
   "metadata": {},
   "source": [
    "**Basic indexing creates a view, How can you check if v1 and v2 is a view or copy? If you change the last element in v2 to 123, will the last element in v1 be changed? Why?**"
   ]
  },
  {
   "cell_type": "code",
   "execution_count": 23,
   "id": "5b9ef4df",
   "metadata": {},
   "outputs": [
    {
     "name": "stdout",
     "output_type": "stream",
     "text": [
      "[0 1 2 3]\n",
      "[2 3]\n"
     ]
    }
   ],
   "source": [
    "v1 = np.arange(4)\n",
    "v2 = v1[-2:]\n",
    "\n",
    "print(v1)\n",
    "print(v2)"
   ]
  },
  {
   "cell_type": "code",
   "execution_count": 24,
   "id": "d2440489",
   "metadata": {},
   "outputs": [
    {
     "name": "stdout",
     "output_type": "stream",
     "text": [
      "None\n",
      "[0 1 2 3]\n"
     ]
    }
   ],
   "source": [
    "# The base attribute of a view returns the original array while it returns None for a copy.\n",
    "print(v1.base)\n",
    "print(v2.base)"
   ]
  },
  {
   "cell_type": "code",
   "execution_count": 25,
   "id": "c8752807",
   "metadata": {},
   "outputs": [
    {
     "name": "stdout",
     "output_type": "stream",
     "text": [
      "[  0   1   2 123]\n",
      "[  2 123]\n"
     ]
    }
   ],
   "source": [
    "# The last element in v1 will be changed aswell since v2 is a view, meaning they share the same data buffer.\n",
    "v2[-1] = 123\n",
    "print(v1)\n",
    "print(v2)"
   ]
  },
  {
   "cell_type": "code",
   "execution_count": 26,
   "id": "3dd68221",
   "metadata": {},
   "outputs": [],
   "source": [
    "# When we create a view it actually holds the references to the same object in memory."
   ]
  }
 ],
 "metadata": {
  "kernelspec": {
   "display_name": ".venv",
   "language": "python",
   "name": "python3"
  },
  "language_info": {
   "codemirror_mode": {
    "name": "ipython",
    "version": 3
   },
   "file_extension": ".py",
   "mimetype": "text/x-python",
   "name": "python",
   "nbconvert_exporter": "python",
   "pygments_lexer": "ipython3",
   "version": "3.12.3"
  }
 },
 "nbformat": 4,
 "nbformat_minor": 5
}
